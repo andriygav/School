{
 "cells": [
  {
   "cell_type": "code",
   "execution_count": 1,
   "metadata": {},
   "outputs": [],
   "source": [
    "import numpy as np"
   ]
  },
  {
   "cell_type": "code",
   "execution_count": 2,
   "metadata": {},
   "outputs": [],
   "source": [
    "import matplotlib.pyplot as plt"
   ]
  },
  {
   "cell_type": "code",
   "execution_count": 3,
   "metadata": {},
   "outputs": [],
   "source": [
    "from sklearn.model_selection import train_test_split"
   ]
  },
  {
   "cell_type": "markdown",
   "metadata": {},
   "source": [
    "В данном ноутбуке вам нужно оформить метод kNN (k - блжайших соседей)\n",
    "\n",
    "Для этого желательно просмотреть лекцию https://github.com/andriygav/School/blob/master/2018/Анализ%20данных/Lecture/Lecture2.pdf\n",
    "\n"
   ]
  },
  {
   "cell_type": "code",
   "execution_count": 4,
   "metadata": {},
   "outputs": [],
   "source": [
    "class kNN:\n",
    "    def __init__(self, X_train, y_train, k = 9, M = 2):\n",
    "#             arguments: X_train is a matrix of shape [n, d],\n",
    "#                        y_train is a matrix of shape [d],\n",
    "#                        k is a number of neighbors which we wanna use\n",
    "#                        M is a number of classes\n",
    "#             returns: nothing\n",
    "#             This function should save all data which users give in init\n",
    "# your code here\n",
    "        pass\n",
    "    def predict(self, X):\n",
    "#             arguments: X is a matrix of shape [n, d], \n",
    "#                     where n is a number of data for which I wanna get result\n",
    "#                           d is a number of dimensions of data (in this task it's 2)\n",
    "#             returns: Y is a matrix of shape [d]\n",
    "#             This function should return prediction for inoput data X\n",
    "# your code here\n",
    "\n",
    "        return"
   ]
  },
  {
   "cell_type": "code",
   "execution_count": 5,
   "metadata": {},
   "outputs": [],
   "source": [
    "# Это данные на которым будем тестить\n",
    "np.random.seed(0)\n",
    "\n",
    "Number_of_data_for_one_classes = 100\n",
    "\n",
    "X_0 = np.random.multivariate_normal(mean = [-1,-1], cov = np.eye(2), size = Number_of_data_for_one_classes)\n",
    "X_1 = np.random.multivariate_normal(mean = [1,1], cov = np.eye(2), size = Number_of_data_for_one_classes)\n",
    "Y_0 = np.zeros(Number_of_data_for_one_classes, dtype=np.int64)\n",
    "Y_1 = np.ones(Number_of_data_for_one_classes, dtype=np.int64)\n",
    "\n",
    "X = np.vstack([X_0, X_1])\n",
    "Y = np.hstack([Y_0, Y_1])"
   ]
  },
  {
   "cell_type": "code",
   "execution_count": 9,
   "metadata": {},
   "outputs": [],
   "source": [
    "X_train, X_test, y_train, y_test = train_test_split(X, Y)"
   ]
  },
  {
   "cell_type": "code",
   "execution_count": 10,
   "metadata": {},
   "outputs": [
    {
     "name": "stdout",
     "output_type": "stream",
     "text": [
      "(150, 2) (150,)\n"
     ]
    }
   ],
   "source": [
    "# Покажем размерности данных для тренировочного сэта\n",
    "\n",
    "print(X_train.shape, y_train.shape)"
   ]
  },
  {
   "cell_type": "code",
   "execution_count": 11,
   "metadata": {},
   "outputs": [
    {
     "name": "stdout",
     "output_type": "stream",
     "text": [
      "(50, 2) (50,)\n"
     ]
    }
   ],
   "source": [
    "# Покажем размерности данных для тестового сэта\n",
    "\n",
    "print(X_test.shape, y_test.shape)"
   ]
  },
  {
   "cell_type": "code",
   "execution_count": 12,
   "metadata": {},
   "outputs": [
    {
     "data": {
      "image/png": "[encoded data removed]",
      "text/plain": [
       "<matplotlib.figure.Figure at 0x1125c2160>"
      ]
     },
     "metadata": {},
     "output_type": "display_data"
    }
   ],
   "source": [
    "# Изобразим данные, чтобы понимать что мы вообще хотим классифицировать\n",
    "\n",
    "plt.plot(X_train[np.where(y_train == 0)[0],0], X_train[np.where(y_train == 0)[0],1], 'bo', label = 'class 0')\n",
    "plt.plot(X_train[np.where(y_train == 1)[0],0], X_train[np.where(y_train == 1)[0],1], 'ro', label = 'class 1')\n",
    "\n",
    "plt.legend(loc = 'best')\n",
    "plt.show()"
   ]
  },
  {
   "cell_type": "code",
   "execution_count": 13,
   "metadata": {},
   "outputs": [],
   "source": [
    "# Создадим объект для метода kNN \n",
    "# в который дадим тренировочный сэт, \n",
    "# количество классов, и количество учитываемых соседей\n",
    "\n",
    "model = kNN(X_train, y_train, M=2, k=9)"
   ]
  },
  {
   "cell_type": "code",
   "execution_count": 14,
   "metadata": {},
   "outputs": [],
   "source": [
    "# Получим ответы на тесте\n",
    "\n",
    "y_test_predicter = model.predict(X_test)"
   ]
  },
  {
   "cell_type": "code",
   "execution_count": 15,
   "metadata": {},
   "outputs": [
    {
     "name": "stdout",
     "output_type": "stream",
     "text": [
      "[0 1 0 0 0 0 0 1 1 1 1 1 1 0 1 1 0 1 0 1 1 0 1 1 1 0 0 0 0 0 0 1 1 0 1 1 1\n",
      " 1 1 0 0 0 0 1 1 1 1 1 0 0]\n"
     ]
    }
   ],
   "source": [
    "# Выведем ответы нашей модели\n",
    "\n",
    "print(y_test_predicter)"
   ]
  },
  {
   "cell_type": "code",
   "execution_count": 16,
   "metadata": {},
   "outputs": [
    {
     "name": "stdout",
     "output_type": "stream",
     "text": [
      "[0 1 0 0 0 0 0 1 1 0 1 1 1 0 1 1 0 1 0 1 1 0 0 1 1 0 0 0 0 0 0 0 1 0 1 1 1\n",
      " 1 1 0 0 0 0 1 1 1 1 1 0 0]\n"
     ]
    }
   ],
   "source": [
    "# Выведем истинные ответы\n",
    "\n",
    "print(y_test)"
   ]
  },
  {
   "cell_type": "code",
   "execution_count": 17,
   "metadata": {},
   "outputs": [
    {
     "name": "stdout",
     "output_type": "stream",
     "text": [
      "Accuracy = 94.000000%\n"
     ]
    }
   ],
   "source": [
    "# Посчитаем точность\n",
    "\n",
    "print((\"Accuracy = %f%c\")%(100*np.sum(y_test_predicter == y_test)/y_test.shape[0], '%'))"
   ]
  }
 ],
 "metadata": {
  "kernelspec": {
   "display_name": "Python 3",
   "language": "python",
   "name": "python3"
  },
  "language_info": {
   "codemirror_mode": {
    "name": "ipython",
    "version": 3
   },
   "file_extension": ".py",
   "mimetype": "text/x-python",
   "name": "python",
   "nbconvert_exporter": "python",
   "pygments_lexer": "ipython3",
   "version": "3.6.2"
  }
 },
 "nbformat": 4,
 "nbformat_minor": 2
}
