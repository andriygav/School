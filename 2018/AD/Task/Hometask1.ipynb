{
 "cells": [
  {
   "cell_type": "markdown",
   "metadata": {},
   "source": [
    "# Основные функции и их свойства"
   ]
  },
  {
   "cell_type": "markdown",
   "metadata": {},
   "source": [
    "## Подключение библиотек"
   ]
  },
  {
   "cell_type": "markdown",
   "metadata": {},
   "source": [
    "Команды для импортирования библиотек(для того чтобы использовать некоторые уже готовые функции) в языке python задаються следующим образом:\n",
    "\n",
    "$\\bf import$ --- указываем на то что мы что-то хочем импортировать, дальше идет $\\bf libname$. Тоесть:\n",
    "\n",
    "$\\bf import$ $libname$ --- команда для импортирования библиотеки с именем $libname$\n",
    "\n",
    "Вызов функции с импортированной библиотеки производяться следующим образом:\n",
    "\n",
    "$libname$.$\\bf FunctionName$()\n",
    "\n",
    "Чтобы не писать каждый раз $libname$ перед точкой, при импортировании можно указать название, как мы будем обращаться к ипортированой библиотеке, например:\n",
    "\n",
    "$\\bf import$ $libname$ $\\bf as$ name"
   ]
  },
  {
   "cell_type": "markdown",
   "metadata": {},
   "source": [
    "Импортируем библиотеку $numpy$ для работы с числами(а имено масивами чисел)\n",
    "\n",
    "Импортируем библиотеку $matplotlib.pyplot$ для построение графиков\n"
   ]
  },
  {
   "cell_type": "code",
   "execution_count": 1,
   "metadata": {},
   "outputs": [],
   "source": [
    "import numpy as np\n",
    "import matplotlib.pyplot as plt\n",
    "\n",
    "import seaborn as sns "
   ]
  },
  {
   "cell_type": "markdown",
   "metadata": {},
   "source": [
    "## Вывод на экран"
   ]
  },
  {
   "cell_type": "markdown",
   "metadata": {},
   "source": [
    "Вывод на экран производиться командой $\\bf print()$"
   ]
  },
  {
   "cell_type": "code",
   "execution_count": 2,
   "metadata": {},
   "outputs": [
    {
     "name": "stdout",
     "output_type": "stream",
     "text": [
      "Hello world and Hello Data Analysis\n",
      "5\n",
      "10\n"
     ]
    }
   ],
   "source": [
    "print('Hello world', 'and', 'Hello Data Analysis')\n",
    "print(5)\n",
    "print(5+5)"
   ]
  },
  {
   "cell_type": "markdown",
   "metadata": {},
   "source": [
    "Также можно делать вывод следующим образом(иногда он бывает удобный, для вывода некоторых логов).\n",
    "\n",
    "Можно делать не $\\bf print$(чего-то), а можно делать $\\bf print$(('format')% (вывод чего-то по формату)).\n",
    "\n",
    "Например:"
   ]
  },
  {
   "cell_type": "code",
   "execution_count": 3,
   "metadata": {},
   "outputs": [
    {
     "name": "stdout",
     "output_type": "stream",
     "text": [
      "5 + 5 = 10\n"
     ]
    }
   ],
   "source": [
    "print(('%d + %d = %d') % (5, 5, 5 + 5))"
   ]
  },
  {
   "cell_type": "markdown",
   "metadata": {},
   "source": [
    "Где такой print удобен?(конечно же можно почти всегда можно обойтись и простым $\\bf print$(чего-то).\n",
    "Пока не будем вдаваться в подробности кода(тут используються списки, о которых будет подробнее позже)\n",
    "\n",
    "Приведем следующий пример используя форматирования:\n"
   ]
  },
  {
   "cell_type": "code",
   "execution_count": 4,
   "metadata": {},
   "outputs": [
    {
     "name": "stdout",
     "output_type": "stream",
     "text": [
      "Grabovoy Andrey is a student of MIPT. He is 20 years old.\n",
      "Seleznyva Angelina is a student of MIPT. She is 19 years old.\n",
      "Goryan Nikolay is a student of MIPT. He is 20 years old.\n"
     ]
    }
   ],
   "source": [
    "Data = []\n",
    "# Каждый запись данных состоит из фамилии имени, места обучения, возраста и пола.\n",
    "Data.append(['Grabovoy', 'Andrey', 'MIPT', 20, 'm'])\n",
    "Data.append(['Seleznyva', 'Angelina', 'MIPT', 19, 'f'])\n",
    "Data.append(['Goryan', 'Nikolay', 'MIPT', 20, 'm'])\n",
    "\n",
    "for person in Data:\n",
    "    if person[4] == 'm':\n",
    "        print(('%s %s is a student of %s. He is %d years old.') % (person[0], person[1], person[2], person[3]))\n",
    "    if person[4] == 'f':\n",
    "        print(('%s %s is a student of %s. She is %d years old.') % (person[0], person[1], person[2], person[3]))\n"
   ]
  },
  {
   "cell_type": "markdown",
   "metadata": {},
   "source": [
    "Не используя форматирования:"
   ]
  },
  {
   "cell_type": "code",
   "execution_count": 5,
   "metadata": {},
   "outputs": [
    {
     "name": "stdout",
     "output_type": "stream",
     "text": [
      "Grabovoy Andrey is a student of MIPT . He is 20 yars old.\n",
      "Seleznyva Angelina is a student of MIPT . She is 19 yars old.\n",
      "Goryan Nikolay is a student of MIPT . He is 20 yars old.\n"
     ]
    }
   ],
   "source": [
    "Data = []\n",
    "# Каждый запись данных состоит из фамилии имени, места обучения, возраста и пола.\n",
    "Data.append(['Grabovoy', 'Andrey', 'MIPT', 20, 'm'])\n",
    "Data.append(['Seleznyva', 'Angelina', 'MIPT', 19, 'f'])\n",
    "Data.append(['Goryan', 'Nikolay', 'MIPT', 20, 'm'])\n",
    "\n",
    "for person in Data:\n",
    "    if person[4] == 'm':\n",
    "        print(person[0], person[1], 'is a student of', person[2], '.', 'He is', person[3], 'yars old.')\n",
    "    if person[4] == 'f':\n",
    "        print(person[0], person[1], 'is a student of', person[2], '.', 'She is', person[3], 'yars old.')\n"
   ]
  },
  {
   "cell_type": "markdown",
   "metadata": {},
   "source": [
    "Если посмотреть на оба способа, то размер кода вроде бы и не увеличился, но в первом случае мы читаем код и понимает что мы хотим вывести, во втром случае, это не так очевидно."
   ]
  },
  {
   "cell_type": "markdown",
   "metadata": {},
   "source": [
    "## Типы данных"
   ]
  },
  {
   "cell_type": "markdown",
   "metadata": {},
   "source": [
    "В python и вообще в языках програмирования есть множество разных типов данных. \n",
    "Они используються для хранения разнных данных, таких как: целый($1,~2,~3,~1234,~-121, \\cdots$), действительные($1.2,~-123.3234, 0.0212,~\\cdots$), строки($\\text{'Andrey'},~\\text{'Cat'},~\\text{'dog'},~\\text{'dog with name 45'},~\\cdots$).\n",
    "\n",
    "Для получения типа данных существует функция $\\bf type$().\n",
    "\n",
    "Этими данными нужно уметь хорошо оперировать, так-как это базовые знания.\n",
    "\n",
    "Давайте посмотрим на типы данных некоторых данных:"
   ]
  },
  {
   "cell_type": "code",
   "execution_count": 6,
   "metadata": {},
   "outputs": [
    {
     "name": "stdout",
     "output_type": "stream",
     "text": [
      "5 имеет тип данных <class 'int'>\n",
      "0.500000 имеет тип данных <class 'float'>\n",
      "Andrey имеет тип данных <class 'str'>\n"
     ]
    }
   ],
   "source": [
    "print(('%d имеет тип данных %s')%(5, type(5)))\n",
    "print(('%f имеет тип данных %s')%(0.5, type(0.5)))\n",
    "print(('%s имеет тип данных %s')%('Andrey', type('Andrey')))"
   ]
  },
  {
   "cell_type": "markdown",
   "metadata": {},
   "source": [
    "### Переменные"
   ]
  },
  {
   "cell_type": "markdown",
   "metadata": {},
   "source": [
    "Под переменной подрозумеваеться любое обозначения данных. Данные записанные в переменной могут изменяться.\n",
    "\n",
    "Давайте сразу расмотри пример:"
   ]
  },
  {
   "cell_type": "code",
   "execution_count": 7,
   "metadata": {},
   "outputs": [
    {
     "name": "stdout",
     "output_type": "stream",
     "text": [
      "Работаем с целыми числами\n",
      "5\n",
      "<class 'int'>\n",
      "\n",
      "\n",
      "Работаем с вещественными\n",
      "0.5\n",
      "<class 'float'>\n",
      "\n",
      "\n",
      "Работаем со строками\n",
      "Andrey\n",
      "<class 'str'>\n"
     ]
    }
   ],
   "source": [
    "# Введем переменную x и скажем что она равне некоторому числа\n",
    "print('Работаем с целыми числами')\n",
    "x = 5\n",
    "# Выведем значение этой переменной\n",
    "print(x)\n",
    "# Выведем тип этой переменной\n",
    "print(type(x))\n",
    "\n",
    "print('\\n')\n",
    "print('Работаем с вещественными')\n",
    "x = 0.5\n",
    "print(x)\n",
    "print(type(x))\n",
    "\n",
    "print('\\n')\n",
    "print('Работаем со строками')\n",
    "x = 'Andrey'\n",
    "print(x)\n",
    "print(type(x))"
   ]
  },
  {
   "cell_type": "markdown",
   "metadata": {},
   "source": [
    "Как видите мы каждый раз перезаписывая переменную изменяли тип данных переменной(сначала это был int потом это был float, а потом это был string).\n",
    "\n",
    "Также можно явно указывать какой тип данных я хочу рассматривать. Для этого нужно явно указать тип при присвоении переменной значения."
   ]
  },
  {
   "cell_type": "code",
   "execution_count": 8,
   "metadata": {},
   "outputs": [
    {
     "name": "stdout",
     "output_type": "stream",
     "text": [
      "5.0\n",
      "<class 'float'>\n"
     ]
    }
   ],
   "source": [
    "# Присвоим переменной целое число, но явно укажем, что мы хотим чтобы переменная считала, что это вещественное число\n",
    "x = float(5)\n",
    "print(x)\n",
    "print(type(x))"
   ]
  },
  {
   "cell_type": "markdown",
   "metadata": {},
   "source": [
    "Как видим, после того как мы явно указали тип переменной, компьтер уже сам не говорит, что целое число является целым."
   ]
  },
  {
   "cell_type": "markdown",
   "metadata": {},
   "source": [
    "### Тип данных int"
   ]
  },
  {
   "cell_type": "markdown",
   "metadata": {},
   "source": [
    "Целые числа это числа вида $1,~2,~3,~4,~5,~6,~-1,~-2,~-3,~-4,~-5,~-12214124,~1231123$. В python этот тип данных обозначаеться как $\\bf int$.\n",
    "\n",
    "Над этим типом данных определены все стандартные математические операции, такие как '$+$', '$-$', '$*$', '$/$'.\n",
    "\n",
    "В компютере этот тип данных кодируеться проще всего(рассмотрим стандартное обозначения, в Python этот тип слегка изменен для удобства, но мы рассмотрим классическую модель целого числа).\n",
    "\n",
    "Все мы знаем, двоичное представление чисел:\n",
    "Напоминаю(нижний индекс справа от числа это система в которой это число записано, 2 --- это двоичное представление числа, 10 --- десятиричное представлениие числа):\n",
    "$$2_{10} = 10_{2}$$\n",
    "$$5_{10} = 101_{2}$$\n",
    "$$2_{10} = 10_{2}$$\n",
    "$$16_{10} = 10000_{2}$$\n",
    "\n",
    "Вот компьютер именно так и хранит целые числа, но есть одна проблема(какая?). А что делать с отрицательными? Мы ведь сказали, что $\\bf int$ это целые числа, как положительные так и отрицательные.\n",
    "\n",
    "Было придумано следующее, и компьютер хранит следующим образом. Он резервирует одну ячейку под знак(первую ячейку, и говорит, если в этой ячейке 0 --- тогда число у нас положительное, если 1 --- тогда число отрицательное), потом берет модуль числа и уже его хранит в двоичном виде.\n",
    "\n",
    "В стандартной модели тип $\\bf int$ бывает нескольких видов:\n",
    "1. $\\bf int16$ --- всего под хранение числа выделяется 16 нулей или единичек(максимально число которое можно сдесь хранить $=\\pm2^{15} - 1$).\n",
    "\n",
    "Например: \n",
    "$$2_{10} = 0000000000000010_{~int16}$$\n",
    "$$-2_{10} = 1000000000000010_{~int16}$$\n",
    "$$16_{10} = 0000000000010000_{~int16}$$\n",
    "$$-16_{10} = 1000000000010000_{~int16}$$\n",
    "\n",
    "2. $\\bf int32$ --- всего под хранение числа выделяется 32 нуля или единичек(максимально число которое можно сдесь хранить $=\\pm2^{31} - 1$).\n",
    "\n",
    "3. $\\bf int64$ --- всего под хранение числа выделяется 64 нуля или единичек(максимально число которое можно сдесь хранить $=\\pm2^{63} - 1$).\n",
    "\n",
    "Осознайте почему именно такое максимально число(это следует из того, что мы резервируем один бит под знак и из представления числа в двоичном виде)\n",
    "\n",
    "Но в Python тип int немного переопределен, для удобства он являеться безграничено большим(чтобы можно было складывать большие числа без заморочек)."
   ]
  },
  {
   "cell_type": "markdown",
   "metadata": {},
   "source": [
    "### Тип данных float"
   ]
  },
  {
   "cell_type": "markdown",
   "metadata": {},
   "source": [
    "Вещественные числа это числа вида $1.1,~2.2,~3.3,~4.4,~5.5,~6.6,~-1.1,~-2.3,~-3.4,~-4.5,~-5.6,~-12214124.2423,~1231123.2342$. В python этот тип данных обозначаеться как $\\bf float$.\n",
    "\n",
    "Над этим типом данных определены все стандартные математические операции, такие как '$+$', '$-$', '$*$', '$/$'.\n",
    "\n",
    "Как храниться этот тип данных в копьютере это довольно сложно, поэтому кому интерестно можете почитать вот здесь, я же не буду этого рассказывать(оно вам и не нужно, главное помните, что очень много чисел после запятой брать нельзя). Ссылка на описание: https://neerc.ifmo.ru/wiki/index.php?title=Представление_вещественных_чисел"
   ]
  },
  {
   "cell_type": "markdown",
   "metadata": {},
   "source": [
    "## Условные операторы"
   ]
  },
  {
   "cell_type": "markdown",
   "metadata": {},
   "source": [
    "Для того, чтобы некоторый участок кода выполнялся только в некоторыех особых случаях, существую условные операторы $\\bf if$ и $\\bf else$.\n",
    "\n",
    "Пусть у нас задача проверить число на четность. Вывести 0 если число четное и 1, если не четное.\n",
    "Вот пример кода:"
   ]
  },
  {
   "cell_type": "code",
   "execution_count": 9,
   "metadata": {},
   "outputs": [
    {
     "name": "stdout",
     "output_type": "stream",
     "text": [
      "Нечетное\n"
     ]
    }
   ],
   "source": [
    "x = 3\n",
    "\n",
    "if x%2 == 0:\n",
    "    print('Четное')\n",
    "else:\n",
    "    print('Нечетное')"
   ]
  },
  {
   "cell_type": "markdown",
   "metadata": {},
   "source": [
    "Важно!!!!\n",
    "\n",
    "Как видно с примера $\\bf print$ у нас идет не сразу под $\\bf if$. А через табуляцию.\n",
    "\n",
    "В Python уровни программы отделяються блоками. \n",
    "\n",
    "Что значит уровни програмы?\n",
    "\n",
    "Припустим мы компютер и читаем код.\n",
    "\n",
    "Мы видим команду $\\bf if$ и мы начинаем думать, а где тот код который нужно исполнять если условие истиное?\n",
    "Для этого и нужны уровни. Как только код видит $\\bf if$, он теперь знает, что нужно исполнять код который на уровне одной табуляции, а если же не выполняеться, то мы пропускаем весь код который под одной табуляцией.\n",
    "\n",
    "Табуляция используеться не только для условных операторов, но и для других вещей. Но главное запомнить, что все что на одном уровне табуляции это один уровень программы, который исполняет код, и если табуляция будет нарушена, то будет ошибка!!!"
   ]
  },
  {
   "cell_type": "markdown",
   "metadata": {},
   "source": [
    "## Циклы"
   ]
  },
  {
   "cell_type": "markdown",
   "metadata": {},
   "source": [
    "Для того, чтобы выполнять некоторую однотипную работу, в языках програмирования есть циклы. \n",
    "\n",
    "Для чего они нужны?\n",
    "\n",
    "Давайте на вопрос зачем нужны, сразу рассмотрим примеры."
   ]
  },
  {
   "cell_type": "markdown",
   "metadata": {},
   "source": [
    "### Пример 1"
   ]
  },
  {
   "cell_type": "markdown",
   "metadata": {},
   "source": [
    "Нам нужно вывести числа от 1 до 5."
   ]
  },
  {
   "cell_type": "code",
   "execution_count": 10,
   "metadata": {},
   "outputs": [
    {
     "name": "stdout",
     "output_type": "stream",
     "text": [
      "Цикл while\n",
      "1\n",
      "2\n",
      "3\n",
      "4\n",
      "5\n",
      "\n",
      "Цикл for\n",
      "1\n",
      "2\n",
      "3\n",
      "4\n",
      "5\n"
     ]
    }
   ],
   "source": [
    "print('Цикл while')\n",
    "N = 5\n",
    "i = 1\n",
    "while(i < N+1):\n",
    "    print(i)\n",
    "    i = i + 1\n",
    "\n",
    "    \n",
    "print('\\nЦикл for')\n",
    "for i in range(1, N+1):\n",
    "    print(i)\n"
   ]
  },
  {
   "cell_type": "markdown",
   "metadata": {},
   "source": [
    "Заметьте в цыклах как и в условных операторах тоже есть свои уровни программы, чтобы компютер мог понять что ему нужно выполнять сейчас."
   ]
  },
  {
   "cell_type": "markdown",
   "metadata": {},
   "source": [
    "### Пример 2"
   ]
  },
  {
   "cell_type": "markdown",
   "metadata": {},
   "source": [
    "Нам нужно посчитать сколько чисел от 1 до 100, которые делятся на 5 или на 6"
   ]
  },
  {
   "cell_type": "code",
   "execution_count": 11,
   "metadata": {},
   "outputs": [
    {
     "name": "stdout",
     "output_type": "stream",
     "text": [
      "Цыкл while\n",
      "33\n",
      "\n",
      "Цыкл for\n",
      "33\n"
     ]
    }
   ],
   "source": [
    "print('Цыкл while')\n",
    "N = 100\n",
    "i = 1\n",
    "counter = 0\n",
    "while(i < N+1):\n",
    "    if i%5 == 0:\n",
    "        counter += 1 # a += 1 тоже самое, что и a = a + 1\n",
    "    elif i%6 ==0:\n",
    "        counter += 1\n",
    "    i += 1\n",
    "print(counter)\n",
    "\n",
    "counter = 0\n",
    "print('\\nЦыкл for')\n",
    "for i in range(1, N+1):\n",
    "    if i%5 == 0:\n",
    "        counter += 1\n",
    "    elif i%6 ==0:\n",
    "        counter += 1\n",
    "print(counter)\n"
   ]
  },
  {
   "cell_type": "markdown",
   "metadata": {},
   "source": [
    "## Функции"
   ]
  },
  {
   "cell_type": "markdown",
   "metadata": {},
   "source": [
    "Пусть в ходе нашей программы нам очень часто нужно выполнять одно и тоже действие и это действие занимает большое количество места, тогда мы можем описать это действие одельно в виде функции, после чего просто вызывать эту функцию.\n",
    "\n",
    "Например, мне нужно посчитать количество делителей для всех чисел от 1 до 10."
   ]
  },
  {
   "cell_type": "code",
   "execution_count": 12,
   "metadata": {},
   "outputs": [
    {
     "name": "stdout",
     "output_type": "stream",
     "text": [
      "0 0\n",
      "1 1\n",
      "2 2\n",
      "3 2\n",
      "4 3\n",
      "5 2\n",
      "6 4\n",
      "7 2\n",
      "8 4\n",
      "9 3\n"
     ]
    }
   ],
   "source": [
    "# Напишем функцию, которая по заданому числу найдет количество делителей этого числа\n",
    "\n",
    "def deviders_counter(n):\n",
    "    result = 0\n",
    "    for i in range(1, n + 1):\n",
    "        if n%i == 0:\n",
    "            result += 1\n",
    "            \n",
    "    return result\n",
    "\n",
    "for i in range(0, 10):\n",
    "    print(i, deviders_counter(i))"
   ]
  },
  {
   "cell_type": "markdown",
   "metadata": {},
   "source": [
    "## Списки"
   ]
  },
  {
   "cell_type": "markdown",
   "metadata": {},
   "source": [
    "Список, это некоторый упорядоченый набор некоторых данных.\n"
   ]
  },
  {
   "cell_type": "markdown",
   "metadata": {},
   "source": [
    "### Создание списков"
   ]
  },
  {
   "cell_type": "markdown",
   "metadata": {},
   "source": [
    "Некоторые примеры создания списков.\n",
    "\n",
    "Желательно осознать, так-как потом это будет очень полезно."
   ]
  },
  {
   "cell_type": "code",
   "execution_count": 13,
   "metadata": {},
   "outputs": [
    {
     "name": "stdout",
     "output_type": "stream",
     "text": [
      "[1, 2, 3, 4, 5]\n",
      "[0, 1, 2, 3, 4, 5, 6, 7, 8, 9]\n",
      "[0, 2, 4, 6, 8]\n",
      "[[0, 2, 4, 6, 8], [0, 2, 4, 6, 8], [0, 2, 4, 6, 8], [0, 2, 4, 6, 8], [0, 2, 4, 6, 8]]\n"
     ]
    }
   ],
   "source": [
    "# Создаем просто список\n",
    "x = [1, 2, 3, 4, 5]\n",
    "print(x)\n",
    "\n",
    "# Создаем список значений от 1 до 10 при помощи цыкла\n",
    "x = [i for i in range(10)]\n",
    "print(x)\n",
    "\n",
    "# Создаем список четных значений от 1 до 10 при помощи цыкла\n",
    "x = [i for i in range(10) if i%2 == 0]\n",
    "print(x)\n",
    "\n",
    "# Создаем список из 5 списков четных значений от 1 до 10 при помощи цыкла\n",
    "x = [[i for i in range(10) if i%2 == 0] for j in range(5)]\n",
    "print(x)"
   ]
  },
  {
   "cell_type": "markdown",
   "metadata": {},
   "source": [
    "### Операции над списками"
   ]
  },
  {
   "cell_type": "code",
   "execution_count": 14,
   "metadata": {},
   "outputs": [
    {
     "name": "stdout",
     "output_type": "stream",
     "text": [
      "В начале\n",
      "\n",
      "Список [1, 2, 3, 4, 5, 6]\n",
      "Длина списка 6\n",
      "\n",
      "После добавления\n",
      "\n",
      "Список [1, 2, 3, 4, 5, 6, 7]\n",
      "Длина списка 7\n",
      "\n",
      "После очищения списка\n",
      "\n",
      "Список []\n",
      "Длина списка 0\n"
     ]
    }
   ],
   "source": [
    "x = [1, 2, 3, 4, 5, 6]\n",
    "\n",
    "print('В начале\\n')\n",
    "print('Список', x)\n",
    "print('Длина списка', len(x))\n",
    "\n",
    "x.append(7) #добавить в конце списка значение\n",
    "print('\\nПосле добавления\\n')\n",
    "\n",
    "print('Список', x)\n",
    "print('Длина списка', len(x))\n",
    "\n",
    "x.clear() #очистить список\n",
    "print('\\nПосле очищения списка\\n')\n",
    "\n",
    "print('Список', x)\n",
    "print('Длина списка', len(x))"
   ]
  },
  {
   "cell_type": "markdown",
   "metadata": {},
   "source": [
    "## Графики"
   ]
  },
  {
   "cell_type": "markdown",
   "metadata": {},
   "source": [
    "В анализе данных всегда нужны какие-то графики, и с ними тожу нужно уметь работать.\n",
    "\n",
    "Давайте построим несколько графиков.\n",
    "\n",
    "Для построения графиков будем использовать библиотеку $matplotlib$"
   ]
  },
  {
   "cell_type": "markdown",
   "metadata": {},
   "source": [
    "### Пример 1"
   ]
  },
  {
   "cell_type": "markdown",
   "metadata": {},
   "source": [
    "Давайте построим график функции $y = x^2$."
   ]
  },
  {
   "cell_type": "code",
   "execution_count": 15,
   "metadata": {},
   "outputs": [
    {
     "data": {
      "text/plain": [
       "[<matplotlib.lines.Line2D at 0x1138dfd68>]"
      ]
     },
     "execution_count": 15,
     "metadata": {},
     "output_type": "execute_result"
    },
    {
     "data": {
      "image/png": "[encoded data removed]",
      "text/plain": [
       "<matplotlib.figure.Figure at 0x1137d6470>"
      ]
     },
     "metadata": {},
     "output_type": "display_data"
    }
   ],
   "source": [
    "N = 1000\n",
    "x = [i/N for i in range(10*N + 1)]\n",
    "y = [(i/N)**2 for i in range(10*N + 1)]\n",
    "\n",
    "plt.plot(x, y) # нарисовать график"
   ]
  },
  {
   "cell_type": "markdown",
   "metadata": {},
   "source": [
    "### Пример 2"
   ]
  },
  {
   "cell_type": "markdown",
   "metadata": {},
   "source": [
    "Давайте построим графики функций $y_1 = x^2$ и $y_2 = 1.25x^2$."
   ]
  },
  {
   "cell_type": "code",
   "execution_count": 16,
   "metadata": {},
   "outputs": [
    {
     "data": {
      "image/png": "[encoded data removed]",
      "text/plain": [
       "<matplotlib.figure.Figure at 0x1138ea9b0>"
      ]
     },
     "metadata": {},
     "output_type": "display_data"
    }
   ],
   "source": [
    "N = 1000\n",
    "x = [i/N for i in range(10*N + 1)]\n",
    "y_1 = [(i/N)**2 for i in range(10*N + 1)]\n",
    "y_2 = [1.25*(i/N)**2 for i in range(10*N + 1)]\n",
    "\n",
    "plt.plot(x, y_1, label = 'x^2') # нарисовать первый график\n",
    "plt.plot(x, y_2, label = '1.25x^2') # нарисовать второй график\n",
    "\n",
    "plt.legend() # показать подписи графиков\n",
    "plt.grid() # вывести сетку на график"
   ]
  },
  {
   "cell_type": "markdown",
   "metadata": {},
   "source": [
    "### Пример 3"
   ]
  },
  {
   "cell_type": "markdown",
   "metadata": {},
   "source": [
    "Давайте построим графики функций $y = ax^2,~a = \\{0.5,~1.0,~1.5,~2.0\\}$."
   ]
  },
  {
   "cell_type": "code",
   "execution_count": 17,
   "metadata": {},
   "outputs": [
    {
     "data": {
      "image/png": "[encoded data removed]",
      "text/plain": [
       "<matplotlib.figure.Figure at 0x1140d60f0>"
      ]
     },
     "metadata": {},
     "output_type": "display_data"
    }
   ],
   "source": [
    "N = 1000\n",
    "x = [i/N for i in range(10*N + 1)]\n",
    "\n",
    "List_Of_a = [0.5, 1.0, 1.5, 2.0]\n",
    "\n",
    "for a in List_Of_a:\n",
    "    y = [a*(i/N)**2 for i in range(10*N + 1)]\n",
    "    plt.plot(x, y, label = str(a))\n",
    "    \n",
    "plt.legend()\n",
    "plt.grid()"
   ]
  },
  {
   "cell_type": "markdown",
   "metadata": {},
   "source": [
    "## NUMPY"
   ]
  },
  {
   "cell_type": "markdown",
   "metadata": {},
   "source": [
    "Одной из самой важных библиотек является numpy. В ней присутствуют почти все операции над матрицами, причем реализовано все так, что оно работает очень быстро. В ней реализованы стандартные функции такие как $\\text{sin}(x)$, $\\text{cos}(x)$, $\\sqrt{x}$, $e^{x}$ и много других плюшек."
   ]
  },
  {
   "cell_type": "code",
   "execution_count": 18,
   "metadata": {},
   "outputs": [
    {
     "name": "stdout",
     "output_type": "stream",
     "text": [
      "[1 2 3 4 5 6]\n"
     ]
    }
   ],
   "source": [
    "x = np.array([1, 2, 3 , 4, 5, 6])\n",
    "print(x)"
   ]
  },
  {
   "cell_type": "markdown",
   "metadata": {},
   "source": [
    "Как видим внешне он мало чем отличается от списка.\n",
    "\n",
    "Но теперь давайте посмотрим на что способен numpy.\n"
   ]
  },
  {
   "cell_type": "markdown",
   "metadata": {},
   "source": [
    "### Новые функции"
   ]
  },
  {
   "cell_type": "code",
   "execution_count": 19,
   "metadata": {},
   "outputs": [
    {
     "data": {
      "image/png": "[encoded data removed]",
      "text/plain": [
       "<matplotlib.figure.Figure at 0x113edccc0>"
      ]
     },
     "metadata": {},
     "output_type": "display_data"
    }
   ],
   "source": [
    "x = np.linspace(-10, 10, 1000) # создает 1000 точек начиная от -10 до 10\n",
    "y = np.sin(x) # берем функцию sin(x)\n",
    "\n",
    "plt.plot(x, y)\n",
    "plt.grid()"
   ]
  },
  {
   "cell_type": "code",
   "execution_count": 20,
   "metadata": {},
   "outputs": [
    {
     "data": {
      "image/png": "[encoded data removed]",
      "text/plain": [
       "<matplotlib.figure.Figure at 0x1143a1588>"
      ]
     },
     "metadata": {},
     "output_type": "display_data"
    }
   ],
   "source": [
    "x = np.linspace(-10, 10, 1000) # создает 1000 точек начиная от -10 до 10\n",
    "y = np.cos(x) # берем функцию cos(x)\n",
    "\n",
    "plt.plot(x, y)\n",
    "plt.grid()"
   ]
  },
  {
   "cell_type": "code",
   "execution_count": 21,
   "metadata": {},
   "outputs": [
    {
     "data": {
      "image/png": "[encoded data removed]",
      "text/plain": [
       "<matplotlib.figure.Figure at 0x1144aaa20>"
      ]
     },
     "metadata": {},
     "output_type": "display_data"
    }
   ],
   "source": [
    "x = np.linspace(-10, 10, 1000) # создает 1000 точек начиная от -10 до 10\n",
    "y = np.abs(x) # берем функцию |x|\n",
    "\n",
    "plt.plot(x, y)\n",
    "plt.grid()"
   ]
  },
  {
   "cell_type": "code",
   "execution_count": 22,
   "metadata": {},
   "outputs": [
    {
     "data": {
      "image/png": "[encoded data removed]",
      "text/plain": [
       "<matplotlib.figure.Figure at 0x1146842e8>"
      ]
     },
     "metadata": {},
     "output_type": "display_data"
    }
   ],
   "source": [
    "x = np.linspace(-10, 10, 1000) # создает 1000 точек начиная от -10 до 10\n",
    "y = np.sqrt(np.abs(x)) # берем функцию sqrt(|x|)\n",
    "\n",
    "plt.plot(x, y)\n",
    "plt.grid()"
   ]
  },
  {
   "cell_type": "code",
   "execution_count": 23,
   "metadata": {},
   "outputs": [
    {
     "data": {
      "image/png": "[encoded data removed]",
      "text/plain": [
       "<matplotlib.figure.Figure at 0x1147446a0>"
      ]
     },
     "metadata": {},
     "output_type": "display_data"
    }
   ],
   "source": [
    "x = np.linspace(0.1, 3, 1000) # создает 1000 точек начиная от 0.1 до 3\n",
    "y_1 = 1/x # берем функцию 1/x\n",
    "\n",
    "plt.plot(x, y_1)\n",
    "plt.grid()"
   ]
  },
  {
   "cell_type": "markdown",
   "metadata": {},
   "source": [
    "Давайте подбросим симетричную монетку 10 раз"
   ]
  },
  {
   "cell_type": "code",
   "execution_count": 24,
   "metadata": {},
   "outputs": [
    {
     "name": "stdout",
     "output_type": "stream",
     "text": [
      "[1 0 0 1 1 1 1 0 1 0 0 0 1 0 0 1 0 1 0 0 0 0 0 1 1 0 0 0 1 1 1 1 0 0 0 1 0\n",
      " 1 0 0 1 1 0 1 1 0 1 1 0 0 0 0 0 1 1 0 0 1 1 0 0 0 1 0 0 0 1 1 0 0 1 1 0 1\n",
      " 1 1 1 0 0 1 0 0 0 1 1 1 0 1 1 0 0 0 1 1 0 0 1 1 0 0 1 1 1 1 1 0 1 1 0 1 0\n",
      " 0 0 1 0 0 1 0 0 1 0 0 1 0 1 1 1 0 0 1 1 0 1 1 0 1 0 1 1 0 0 0 1 1 0 1 0 1\n",
      " 0 1 0 1 0 1 1 1 0 0 0 1 1 1 0 1 0 1 0 1 1 0 0 0 1 1 1 0 1 1 0 1 1 1 0 1 1\n",
      " 0 1 0 1 1 1 1 0 0 0 1 1 0 1 1 1 0 1 0 1 1 0 0 1 0 1 0 1 1 0 0 0 1 1 1 1 0\n",
      " 0 1 1 1 1 1 1 1 1 0 0 1 0 1 1 1 1 1 0 0 0 0 0 0 0 0 1 0 0 1 1 0 0 1 1 0 0\n",
      " 1 0 0 1 0 1 0 1 0 1 1 0 1 1 0 0 1 1 1 0 0 0 1 0 0 1 1 0 1 1 0 1 1 1 1 0 1\n",
      " 0 1 0 0 0 0 0 0 1 0 0 0 1 0 1 1 0 0 0 1 1 0 1 0 0 1 0 1 1 1 0 0 1 1 0 0 0\n",
      " 0 1 0 1 0 0 1 0 1 1 0 1 0 1 1 1 0 1 1 0 1 1 1 1 0 0 0 0 0 0 1 0 1 0 1 0 1\n",
      " 0 1 1 0 1 1 1 0 1 0 1 1 1 1 1 1 1 0 0 0 0 1 1 1 1 1 1 1 1 0 0 0 1 1 1 0 0\n",
      " 0 1 0 0 0 0 1 1 0 1 0 1 1 1 0 1 0 1 1 0 1 0 1 1 1 1 0 1 1 1 0 1 1 1 0 1 1\n",
      " 0 0 0 0 1 0 1 1 1 1 1 0 0 0 1 1 0 0 0 0 1 1 1 1 0 0 0 1 0 1 1 1 1 0 0 0 0\n",
      " 0 0 0 0 0 0 1 0 0 1 0 0 1 0 1 1 1 1 0 1 0 1 1 1 0 1 0 1 1 1 0 1 0 1 0 0 1\n",
      " 1 1 1 1 0 0 1 0 0 1 1 1 0 1 0 1 0 0 0 0 0 0 0 0 0 1 0 1 0 0 0 1 0 1 0 0 1\n",
      " 1 1 1 1 1 0 0 0 0 1 1 1 0 0 1 1 0 0 1 1 0 1 0 0 1 1 0 1 1 1 1 0 1 1 0 1 0\n",
      " 0 0 0 0 0 1 1 0 0 1 1 0 1 1 1 1 0 0 1 1 1 1 1 0 1 0 1 0 0 1 0 0 0 0 0 1 0\n",
      " 1 1 1 1 0 1 1 0 1 1 0 0 1 0 0 1 0 0 0 1 1 0 0 1 0 0 1 0 1 1 0 1 1 1 1 1 1\n",
      " 1 0 1 0 1 1 0 1 1 0 0 0 0 0 0 1 0 0 0 0 0 0 0 1 1 0 1 1 1 1 0 0 0 0 1 1 0\n",
      " 1 1 1 1 0 0 0 0 1 0 1 1 0 1 1 0 0 1 1 1 0 1 1 1 0 0 0 0 1 1 1 1 0 0 0 0 0\n",
      " 1 0 1 1 0 1 0 0 1 1 1 0 1 1 1 0 0 1 1 0 0 0 0 1 0 0 0 1 0 1 1 1 0 1 1 0 0\n",
      " 1 1 1 0 1 1 1 0 1 0 1 0 0 0 1 0 0 0 1 1 0 0 1 0 0 1 1 1 1 0 0 1 0 1 1 1 1\n",
      " 0 0 1 1 0 1 0 0 1 1 1 0 1 0 0 1 0 1 1 0 1 1 1 1 1 0 1 0 1 0 1 1 0 1 1 1 0\n",
      " 0 0 1 1 1 1 1 0 0 1 0 1 1 0 0 0 1 0 1 0 0 0 1 0 1 0 1 0 0 0 0 1 0 1 1 0 1\n",
      " 1 1 0 1 1 0 1 1 0 1 0 1 1 0 1 0 0 0 1 1 1 0 1 0 1 0 0 1 0 1 1 1 1 1 0 0 0\n",
      " 1 0 1 0 1 1 1 1 1 1 0 0 0 1 0 0 1 1 0 0 1 1 0 1 1 0 1 0 1 1 0 1 0 1 0 0 1\n",
      " 0 0 0 1 0 1 1 1 1 0 1 1 0 1 1 0 1 0 1 1 1 0 1 0 1 0 1 1 1 0 1 0 0 0 1 1 0\n",
      " 1]\n"
     ]
    }
   ],
   "source": [
    "y = np.random.choice([0, 1], p = [0.5, 0.5], size = N)\n",
    "print(y)"
   ]
  },
  {
   "cell_type": "markdown",
   "metadata": {},
   "source": [
    "Как бы нам изобразить эти данные?\n",
    "\n",
    "График!?"
   ]
  },
  {
   "cell_type": "code",
   "execution_count": 25,
   "metadata": {},
   "outputs": [
    {
     "data": {
      "image/png": "[encoded data removed]",
      "text/plain": [
       "<matplotlib.figure.Figure at 0x11486f0b8>"
      ]
     },
     "metadata": {},
     "output_type": "display_data"
    }
   ],
   "source": [
    "np.random.seed(0) # Установим, чтобы рандом был не совмес рандобный\n",
    "N = 10\n",
    "x = np.linspace(1, N, N)\n",
    "y = np.random.choice([0, 1], p = [0.5, 0.5], size = N)\n",
    "\n",
    "plt.plot(x, y)\n",
    "plt.grid()"
   ]
  },
  {
   "cell_type": "markdown",
   "metadata": {},
   "source": [
    "Как по мне с этого графика ничего не понятно!\n",
    "\n",
    "А давайте построим гистограму! Для этого используем библиотеку $seaborn$"
   ]
  },
  {
   "cell_type": "code",
   "execution_count": 26,
   "metadata": {},
   "outputs": [
    {
     "data": {
      "text/plain": [
       "<matplotlib.axes._subplots.AxesSubplot at 0x11477cf28>"
      ]
     },
     "execution_count": 26,
     "metadata": {},
     "output_type": "execute_result"
    },
    {
     "data": {
      "image/png": "[encoded data removed]",
      "text/plain": [
       "<matplotlib.figure.Figure at 0x1148857b8>"
      ]
     },
     "metadata": {},
     "output_type": "display_data"
    }
   ],
   "source": [
    "sns.distplot(y, kde= False)"
   ]
  },
  {
   "cell_type": "markdown",
   "metadata": {},
   "source": [
    "На гистограмме уже данные лучше видны, мы видим, что из 10 бросаний было 3 '0' и 7 '1'.\n",
    "\n",
    "А давайте сделаем не 10 бросаний а 100 бросаний:"
   ]
  },
  {
   "cell_type": "code",
   "execution_count": 27,
   "metadata": {},
   "outputs": [
    {
     "data": {
      "text/plain": [
       "<matplotlib.axes._subplots.AxesSubplot at 0x11476f7f0>"
      ]
     },
     "execution_count": 27,
     "metadata": {},
     "output_type": "execute_result"
    },
    {
     "data": {
      "image/png": "[encoded data removed]",
      "text/plain": [
       "<matplotlib.figure.Figure at 0x11491ee48>"
      ]
     },
     "metadata": {},
     "output_type": "display_data"
    }
   ],
   "source": [
    "np.random.seed(0) # Установим, чтобы рандом был не совмес рандобный\n",
    "N = 100\n",
    "x = np.linspace(1, N, N)\n",
    "y = np.random.choice(a = [0, 1], p = [0.5, 0.5], size = N) # функция которая из масива a выбирает произвольно элементы с вероятностями из масива p\n",
    "\n",
    "sns.distplot(y, kde= False)"
   ]
  },
  {
   "cell_type": "markdown",
   "metadata": {},
   "source": [
    "Что же при 100 бросаниях, у нас всреднем монеты падают одинакого как орлом('0') так и решкой('1')\n",
    "\n",
    "А если числено сколько у нас орлов и решек получилось?"
   ]
  },
  {
   "cell_type": "code",
   "execution_count": 28,
   "metadata": {},
   "outputs": [
    {
     "name": "stdout",
     "output_type": "stream",
     "text": [
      "Орлов/Решек=51/49\n"
     ]
    }
   ],
   "source": [
    "# Воспользуемся здесь удобной командой np.sum(x), которая суммирует все элементы numpy масива\n",
    "print(('Орлов/Решек=%d/%d')%(len(y) - np.sum(y), np.sum(y)))"
   ]
  },
  {
   "cell_type": "markdown",
   "metadata": {},
   "source": [
    "Как видно, чем больше мы бросаем, тем ближе мы к срединке. Что интуитивно понятно."
   ]
  },
  {
   "cell_type": "markdown",
   "metadata": {},
   "source": [
    "### Новые возможности"
   ]
  },
  {
   "cell_type": "code",
   "execution_count": 29,
   "metadata": {},
   "outputs": [
    {
     "name": "stdout",
     "output_type": "stream",
     "text": [
      "sum = 496.689461577\n",
      "max = 0.999808578117\n",
      "min = 0.000545964896996\n",
      "mean = 0.496689461577\n"
     ]
    },
    {
     "data": {
      "text/plain": [
       "<matplotlib.axes._subplots.AxesSubplot at 0x114911898>"
      ]
     },
     "execution_count": 29,
     "metadata": {},
     "output_type": "execute_result"
    },
    {
     "data": {
      "image/png": "[encoded data removed]",
      "text/plain": [
       "<matplotlib.figure.Figure at 0x1142b2b00>"
      ]
     },
     "metadata": {},
     "output_type": "display_data"
    }
   ],
   "source": [
    "x = np.random.random(size = 1000) # делает рандомный масив из 1000 элементов, где каждый элемент от 0 до 1\n",
    "# Сумирование элементов масива\n",
    "print('sum =', np.sum(x))\n",
    "\n",
    "# Максимальный элемент масива\n",
    "print('max =', np.max(x))\n",
    "\n",
    "# Минимальный элемент масива\n",
    "print('min =', np.min(x))\n",
    "\n",
    "# Средние значение(усредним)\n",
    "print('mean =', np.mean(x))\n",
    "\n",
    "# Сортировка масива\n",
    "np.sort(x) # вернет отсортированый масив\n",
    "\n",
    "sns.distplot(x, kde= False) # на гистограме можно увидить какие значение в масиве"
   ]
  },
  {
   "cell_type": "markdown",
   "metadata": {},
   "source": [
    "###  Работа с матрицами"
   ]
  },
  {
   "cell_type": "code",
   "execution_count": 30,
   "metadata": {},
   "outputs": [
    {
     "name": "stdout",
     "output_type": "stream",
     "text": [
      "[ 0.29594983  0.92929167  0.26590563  0.82814661  0.98510868]\n",
      "\n",
      "A - едииничная матрица\n",
      "\n",
      "[[ 1.  0.  0.  0.  0.]\n",
      " [ 0.  1.  0.  0.  0.]\n",
      " [ 0.  0.  1.  0.  0.]\n",
      " [ 0.  0.  0.  1.  0.]\n",
      " [ 0.  0.  0.  0.  1.]]\n",
      "[ 0.29594983  0.92929167  0.26590563  0.82814661  0.98510868]\n",
      "\n",
      "A - матрица всех единиц\n",
      "\n",
      "[[ 1.  1.  1.  1.  1.]\n",
      " [ 1.  1.  1.  1.  1.]\n",
      " [ 1.  1.  1.  1.  1.]\n",
      " [ 1.  1.  1.  1.  1.]\n",
      " [ 1.  1.  1.  1.  1.]]\n",
      "[ 3.30440243  3.30440243  3.30440243  3.30440243  3.30440243]\n"
     ]
    }
   ],
   "source": [
    "x = np.random.rand(5)\n",
    "print(x)\n",
    "\n",
    "print('\\nA - едииничная матрица\\n')\n",
    "A = np.eye(5) # создадим единичную матрицу 5х5\n",
    "print(A)\n",
    "y = np.matmul(A, x) # умножим матрицу A на вектор x\n",
    "print(y)\n",
    "\n",
    "print('\\nA - матрица всех единиц\\n')\n",
    "A = np.ones(shape = [5,5]) # создадим единичную матрицу 5х5\n",
    "print(A)\n",
    "y = np.matmul(A, x) # умножим матрицу A на вектор x\n",
    "print(y)"
   ]
  },
  {
   "cell_type": "markdown",
   "metadata": {},
   "source": [
    "Осмыслите эти результаты с матрицами, это будет очень полезно позже."
   ]
  },
  {
   "cell_type": "code",
   "execution_count": 31,
   "metadata": {},
   "outputs": [
    {
     "name": "stdout",
     "output_type": "stream",
     "text": [
      "[[ 1.   0.5  0.5]\n",
      " [ 0.5  1.   0.5]\n",
      " [ 0.5  0.5  1. ]]\n",
      "[[ 1.5 -0.5 -0.5]\n",
      " [-0.5  1.5 -0.5]\n",
      " [-0.5 -0.5  1.5]]\n",
      "[[ 1.  0.  0.]\n",
      " [ 0.  1.  0.]\n",
      " [ 0.  0.  1.]]\n"
     ]
    }
   ],
   "source": [
    "# Нахождение обратной матрицы\n",
    "A = np.array([[1, 0.5, 0.5],\n",
    "              [0.5, 1, 0.5],\n",
    "              [0.5, 0.5, 1]])\n",
    "B = np.linalg.inv(A)\n",
    "print(A)\n",
    "print(B)\n",
    "print(np.matmul(A, B))"
   ]
  },
  {
   "cell_type": "markdown",
   "metadata": {},
   "source": [
    "# Задание"
   ]
  },
  {
   "cell_type": "markdown",
   "metadata": {},
   "source": [
    "## Задача 1\n",
    "\n",
    "Вывести график того, как меняется количество делителей, от номера числа. Для чисел от 1 до 10000.\n",
    "\n",
    "(Подсказка завести цикл от 1 до 10000, для каждого значения посчитать и занести в список при помощи append())"
   ]
  },
  {
   "cell_type": "code",
   "execution_count": 32,
   "metadata": {},
   "outputs": [],
   "source": [
    "# Your code here\n"
   ]
  },
  {
   "cell_type": "markdown",
   "metadata": {},
   "source": [
    "## Задача 2\n",
    "\n",
    "Используя обратную матрицу найдите решение уравнения:\n",
    " \n",
    "$$ \\textbf{A}\\textbf{x} = \\textbf{b}, \\quad \\textbf{A} = \\begin{bmatrix}\n",
    "1&1&0&0&\\cdots&0\\\\\n",
    "0&1&1&0&\\cdots&0\\\\\n",
    "\\cdots&\\cdots&\\cdots&\\cdots&\\cdots&\\cdots\\\\\n",
    "0&\\cdots&0&0&1&1\\\\\n",
    "0&\\cdots&0&0&0&1\n",
    "\\end{bmatrix}, \\textbf{b} = \\begin{bmatrix}\n",
    "1\\\\\n",
    "1\\\\\n",
    "\\cdots\\\\\n",
    "1\\\\\n",
    "1\n",
    "\\end{bmatrix},$$\n",
    "где размерность матрицы A равна $[10, 10]$\n",
    "\n",
    "\n"
   ]
  },
  {
   "cell_type": "code",
   "execution_count": 33,
   "metadata": {},
   "outputs": [],
   "source": [
    "# Your code here\n"
   ]
  },
  {
   "cell_type": "markdown",
   "metadata": {},
   "source": [
    "## Задача 3\n",
    "\n",
    "Решите уравнение вида $ax^2+bx+c =0$.\n",
    "\n",
    "Напишите функцию $\\bf solver$(a, b, c), которая на вход получает параметры в уравнении, и возвращет список корней этого уравнения.\n"
   ]
  },
  {
   "cell_type": "code",
   "execution_count": 34,
   "metadata": {},
   "outputs": [
    {
     "name": "stdout",
     "output_type": "stream",
     "text": [
      "[]\n"
     ]
    }
   ],
   "source": [
    "def solver(a, b, c):\n",
    "    x = []\n",
    "# Your code from here\n",
    "\n",
    "# Your code to here\n",
    "    return x\n",
    "\n",
    "print(solver(1, 2, 1))"
   ]
  },
  {
   "cell_type": "markdown",
   "metadata": {},
   "source": [
    "## Задача 4\n",
    "\n",
    "Пусть задана матрица $\\textbf{A}$ размера $n\\times m$. Седловой точкой матрицы $\\textbf{A}$ назовем значени, которое являеться минимальным в своей строке и максимальным в своем столбце.\n",
    "\n",
    "Для заданой матрицы $\\textbf{A}$ найдите все ее седловые точки.\n",
    "\n",
    "Напишите функцию $\\bf saddle$($\\textbf{A}$), которая на вход получает матрицу $\\textbf{A}$, и возвращет список седловых точек."
   ]
  },
  {
   "cell_type": "code",
   "execution_count": 35,
   "metadata": {},
   "outputs": [
    {
     "name": "stdout",
     "output_type": "stream",
     "text": [
      "[]\n"
     ]
    }
   ],
   "source": [
    "def saddle(A):\n",
    "    saddles = []\n",
    "# Your code from here\n",
    "\n",
    "# Your code to here\n",
    "    return saddles\n",
    "\n",
    "print(saddle(np.eye(3)))"
   ]
  },
  {
   "cell_type": "code",
   "execution_count": null,
   "metadata": {},
   "outputs": [],
   "source": []
  }
 ],
 "metadata": {
  "kernelspec": {
   "display_name": "Python 3",
   "language": "python",
   "name": "python3"
  },
  "language_info": {
   "codemirror_mode": {
    "name": "ipython",
    "version": 3
   },
   "file_extension": ".py",
   "mimetype": "text/x-python",
   "name": "python",
   "nbconvert_exporter": "python",
   "pygments_lexer": "ipython3",
   "version": "3.6.2"
  }
 },
 "nbformat": 4,
 "nbformat_minor": 2
}
