{
 "cells": [
  {
   "cell_type": "code",
   "execution_count": 16,
   "metadata": {},
   "outputs": [],
   "source": [
    "class matrix():\n",
    "    def __init__(self, n, m):\n",
    "        self.shape = [n, m]\n",
    "        self.A = [[0 for i in range(m)] for j in range(n)]\n",
    "    \n",
    "    def __getitem__(self, key):\n",
    "        return self.A[key]\n",
    "    \n",
    "    def __add__(self, A):\n",
    "        new = matrix(self.shape[0], self.shape[1])\n",
    "        new.add(self)\n",
    "        new.add(A)\n",
    "        return new\n",
    "    \n",
    "    def __mul__(self, A):\n",
    "        new = matrix(self.shape[0], self.shape[1])\n",
    "        new.add(self)\n",
    "        new.mul(A)\n",
    "        return new\n",
    "    \n",
    "    def __str__(self):\n",
    "        string = '['\n",
    "        for i in range(self.shape[0]):\n",
    "            if i != 0:\n",
    "                string += ' '\n",
    "\n",
    "            string += '['\n",
    "            for j in range(self.shape[1]):\n",
    "                string += str(self.A[i][j])\n",
    "                if (j != self.shape[1] -1):\n",
    "                    string += ' '\n",
    "            string += ']'\n",
    "            if (i != self.shape[0] -1):\n",
    "                string += '\\n'\n",
    "        string += ']\\n'\n",
    "        return string\n",
    "    \n",
    "    def add_scalar(self, a):\n",
    "        for i in range(self.shape[0]):\n",
    "            for j in range(self.shape[1]):\n",
    "                self.A[i][j] += a\n",
    "        return\n",
    "    \n",
    "    def add(self, A):\n",
    "        if type(A) == int or type(A) == float:\n",
    "            self.add_scalar(A)\n",
    "            return\n",
    "        \n",
    "        if (A.shape[0] != self.shape[0]):\n",
    "            print((\"%d not equel to %d\") % (A.shape[0], self.shape[0]))\n",
    "            return\n",
    "        if (A.shape[1] != self.shape[1]):\n",
    "            print((\"%d not equel to %d\") % (A.shape[1], self.shape[1]))\n",
    "            return\n",
    "        for i in range(self.shape[0]):\n",
    "            for j in range(self.shape[1]):\n",
    "                self.A[i][j] += A[i][j]\n",
    "        return\n",
    "    \n",
    "    def mul_scalar(self, a):\n",
    "        for i in range(self.shape[0]):\n",
    "            for j in range(self.shape[1]):\n",
    "                self.A[i][j] *= a\n",
    "        return\n",
    "        \n",
    "    def mul(self, A):\n",
    "        if type(A) == int or type(A) == float:\n",
    "            self.mul_scalar(A)\n",
    "            return\n",
    "        \n",
    "        if (A.shape[0] != self.shape[0]):\n",
    "            print((\"%d not equel to %d\") % (A.shape[0], self.shape[0]))\n",
    "            return\n",
    "        if (A.shape[1] != self.shape[1]):\n",
    "            print((\"%d not equel to %d\") % (A.shape[1], self.shape[1]))\n",
    "            return\n",
    "        for i in range(self.shape[0]):\n",
    "            for j in range(self.shape[1]):\n",
    "                self.A[i][j] *= A[i][j]\n",
    "        return\n",
    "    "
   ]
  },
  {
   "cell_type": "code",
   "execution_count": 17,
   "metadata": {},
   "outputs": [],
   "source": [
    "A = matrix(5, 5)"
   ]
  },
  {
   "cell_type": "code",
   "execution_count": 18,
   "metadata": {},
   "outputs": [
    {
     "name": "stdout",
     "output_type": "stream",
     "text": [
      "[[0 0 0 0 0]\n",
      " [0 0 0 0 0]\n",
      " [0 0 0 0 0]\n",
      " [0 0 0 0 0]\n",
      " [0 0 0 0 0]]\n",
      "\n"
     ]
    }
   ],
   "source": [
    "print(A)"
   ]
  },
  {
   "cell_type": "code",
   "execution_count": 19,
   "metadata": {},
   "outputs": [],
   "source": [
    "A.add(0.1)"
   ]
  },
  {
   "cell_type": "code",
   "execution_count": 20,
   "metadata": {},
   "outputs": [
    {
     "name": "stdout",
     "output_type": "stream",
     "text": [
      "[[0.1 0.1 0.1 0.1 0.1]\n",
      " [0.1 0.1 0.1 0.1 0.1]\n",
      " [0.1 0.1 0.1 0.1 0.1]\n",
      " [0.1 0.1 0.1 0.1 0.1]\n",
      " [0.1 0.1 0.1 0.1 0.1]]\n",
      "\n"
     ]
    }
   ],
   "source": [
    "print(A)"
   ]
  },
  {
   "cell_type": "code",
   "execution_count": 21,
   "metadata": {},
   "outputs": [],
   "source": [
    "B = matrix(5, 6)"
   ]
  },
  {
   "cell_type": "code",
   "execution_count": 22,
   "metadata": {},
   "outputs": [],
   "source": [
    "B.add(2.)"
   ]
  },
  {
   "cell_type": "code",
   "execution_count": 23,
   "metadata": {},
   "outputs": [
    {
     "name": "stdout",
     "output_type": "stream",
     "text": [
      "[[2.0 2.0 2.0 2.0 2.0 2.0]\n",
      " [2.0 2.0 2.0 2.0 2.0 2.0]\n",
      " [2.0 2.0 2.0 2.0 2.0 2.0]\n",
      " [2.0 2.0 2.0 2.0 2.0 2.0]\n",
      " [2.0 2.0 2.0 2.0 2.0 2.0]]\n",
      "\n"
     ]
    }
   ],
   "source": [
    "print(B)"
   ]
  },
  {
   "cell_type": "code",
   "execution_count": 24,
   "metadata": {},
   "outputs": [
    {
     "name": "stdout",
     "output_type": "stream",
     "text": [
      "6 not equel to 5\n"
     ]
    }
   ],
   "source": [
    "C = A + B"
   ]
  },
  {
   "cell_type": "code",
   "execution_count": 25,
   "metadata": {},
   "outputs": [
    {
     "name": "stdout",
     "output_type": "stream",
     "text": [
      "[[0.1 0.1 0.1 0.1 0.1]\n",
      " [0.1 0.1 0.1 0.1 0.1]\n",
      " [0.1 0.1 0.1 0.1 0.1]\n",
      " [0.1 0.1 0.1 0.1 0.1]\n",
      " [0.1 0.1 0.1 0.1 0.1]]\n",
      "\n"
     ]
    }
   ],
   "source": [
    "print(C)"
   ]
  },
  {
   "cell_type": "code",
   "execution_count": 26,
   "metadata": {},
   "outputs": [
    {
     "name": "stdout",
     "output_type": "stream",
     "text": [
      "6 not equel to 5\n"
     ]
    }
   ],
   "source": [
    "D = A*B"
   ]
  },
  {
   "cell_type": "code",
   "execution_count": 27,
   "metadata": {},
   "outputs": [
    {
     "name": "stdout",
     "output_type": "stream",
     "text": [
      "[[0.1 0.1 0.1 0.1 0.1]\n",
      " [0.1 0.1 0.1 0.1 0.1]\n",
      " [0.1 0.1 0.1 0.1 0.1]\n",
      " [0.1 0.1 0.1 0.1 0.1]\n",
      " [0.1 0.1 0.1 0.1 0.1]]\n",
      "\n"
     ]
    }
   ],
   "source": [
    "print(D)"
   ]
  },
  {
   "cell_type": "code",
   "execution_count": null,
   "metadata": {},
   "outputs": [],
   "source": []
  }
 ],
 "metadata": {
  "kernelspec": {
   "display_name": "Python 3",
   "language": "python",
   "name": "python3"
  },
  "language_info": {
   "codemirror_mode": {
    "name": "ipython",
    "version": 3
   },
   "file_extension": ".py",
   "mimetype": "text/x-python",
   "name": "python",
   "nbconvert_exporter": "python",
   "pygments_lexer": "ipython3",
   "version": "3.6.2"
  }
 },
 "nbformat": 4,
 "nbformat_minor": 2
}
