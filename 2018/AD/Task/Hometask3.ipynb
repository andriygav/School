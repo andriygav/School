{
 "cells": [
  {
   "cell_type": "code",
   "execution_count": 1,
   "metadata": {},
   "outputs": [],
   "source": [
    "import numpy as np"
   ]
  },
  {
   "cell_type": "code",
   "execution_count": 2,
   "metadata": {},
   "outputs": [],
   "source": [
    "import matplotlib.pyplot as plt"
   ]
  },
  {
   "cell_type": "code",
   "execution_count": 3,
   "metadata": {},
   "outputs": [],
   "source": [
    "from sklearn.model_selection import train_test_split"
   ]
  },
  {
   "cell_type": "markdown",
   "metadata": {},
   "source": [
    "Now we try to realize all things from lecture number 3. https://github.com/andriygav/School/blob/master/2018/Анализ%20данных/Lecture/Lecture3.pdf\n",
    "\n",
    "I realy recommend to read the lecture before coding."
   ]
  },
  {
   "cell_type": "markdown",
   "metadata": {},
   "source": [
    "# Gradint descent"
   ]
  },
  {
   "cell_type": "markdown",
   "metadata": {},
   "source": [
    "Для начала реализуем метод градиентного спуска\n",
    "\n",
    "###### Напомним что это\n",
    "\n",
    "Пусть у нас некоторая функция $f(\\textbf{x})$, для которой мы хотим найти локальный минимум. Причем $\\textbf{x}$ это некоторый вектор параметров.\n",
    "\n",
    "Рассмотрим итеративный процесс, который на каждом шаге становить все ближе и ближе к точке $\\textbf{x}_0$, к точке локального минимуму.\n",
    "\n",
    "Рассмотрим некоторое начальное приближения минимума $\\textbf{x}^0$.\n",
    "\n",
    "Тогда каждая последующуя точка итеративного процесса будет вычисляться по формуле:\n",
    "\n",
    "$$\\textbf{x}^{n+1} = \\textbf{x}^{n} - \\alpha \\nabla f(\\textbf{x}^{n}),$$\n",
    "\n",
    "где $\\alpha$ - это некоторый параметр оптимизации, который мы задаем из вне, а $\\nabla f(\\textbf{x}^{n})$ - это градиент функции $f(\\textbf{x})$ в точке $\\textbf{x}^n$\n"
   ]
  },
  {
   "cell_type": "markdown",
   "metadata": {},
   "source": [
    "Теперь вам нужно реализовать class, который делает один шаг нахождения локального минимума некоторой функции"
   ]
  },
  {
   "cell_type": "code",
   "execution_count": 4,
   "metadata": {},
   "outputs": [],
   "source": [
    "class GD:\n",
    "    def __init__(self, parameters, alpha = 0.01):\n",
    "#             arguments: parameters is a np.array of model parametes of shape = [n],\n",
    "#             alpha: the GD step parameter\n",
    "#             returns: nothing\n",
    "#             This function should save all data which users insert to init  \n",
    "        self.__parameters = parameters\n",
    "        self.__alpha = alpha\n",
    "        pass\n",
    "    def step(self, gradient):\n",
    "#             arguments: gradient is a np.array of derivatives of the error function \n",
    "#                        by model parametes of shape = [n],\n",
    "#                        (вектор производных функции ошибки по параметрам модели, тоесть градиент Q(w) по w)\n",
    "#             returns: nothing\n",
    "#             This function should upgrade vector of self.__parameters\n",
    "# your code here\n",
    "        pass\n",
    "    def parameters(self):\n",
    "#             arguments: nothing\n",
    "#             returns: vector of parameters of shape = [n]\n",
    "#             This function should return vector of parameters\n",
    "# your code here\n",
    "        pass"
   ]
  },
  {
   "cell_type": "code",
   "execution_count": 5,
   "metadata": {},
   "outputs": [],
   "source": [
    "# Lets realize the error function for Linear Regression\n",
    "# agruments: X is a np.array of shape = [L, n],\n",
    "#            y is a np.array of shape = [L],\n",
    "#            w is a np.array of shape = [n],\n",
    "#                   where L is a number of object\n",
    "#                         n is a number of features\n",
    "# returns: the value of error function\n",
    "def Q(X, y, w):\n",
    "    return ((y - X@w).T@(y - X@w))/X.shape[0]\n",
    "\n",
    "# Lets realize the function witch return a gradient for error function by parameters w\n",
    "# agruments: X is a np.array of shape = [L, n],\n",
    "#            y is a np.array of shape = [L],\n",
    "#            w is a np.array of shape = [n],\n",
    "#                   where L is a number of object\n",
    "#                         n is a number of features\n",
    "# returns: the value of derivatives of the error function by model parametes of shape = [n]\n",
    "def dQ(X, y, w):\n",
    "    return ((-2*X.T@np.reshape(y, [-1,1])+2*X.T@X@np.reshape(w, [-1,1]))/X.shape[0]).reshape(-1)\n",
    "\n",
    "# Определим класс функции потерь, который имеет два метода\n",
    "# Первый метод это метод который вовзращает нам ошибку\n",
    "# Второй метод это метод возвращающий градиент по параметрам w\n",
    "class ErrorFunction():\n",
    "# В функции __init_ нам не нужно ничего делать, \n",
    "# так-как у нас нету внешних параметров.\n",
    "    def __init__(self):\n",
    "        pass\n",
    "# В функции forward нам нужно просто вызвать внешнюю функцию Q\n",
    "    def forward(self, X, y, w):\n",
    "        return Q(X, y, w)\n",
    "    \n",
    "# В функции bacward нам нужно просто вызвать внешнюю функцию dQ\n",
    "    def bacward(self, X, y, w):\n",
    "        return dQ(X, y, w)"
   ]
  },
  {
   "cell_type": "code",
   "execution_count": 6,
   "metadata": {},
   "outputs": [],
   "source": [
    "\n",
    "class LinearRegression:\n",
    "    def __init__(self, n, Optimizer = GD, ErrorFunction = ErrorFunction):\n",
    "#         arguments: n is a number of features in matrix X\n",
    "#                    Optimizer is class of method which will change the parameters \n",
    "#                              to reduce the error(Now we know only Gradient Descent)\n",
    "#                    ErrorFunction is a class of error function wich we will optimize\n",
    "#         The function __init_ should save all parameters which users give in input of this function\n",
    "# your code here\n",
    "        pass\n",
    "    \n",
    "    def fit(self, X, y):\n",
    "#         arguments: X is a np.array of data of shape = [L, n]\n",
    "#                    y is a np.array of answers for the data of shape = [L]\n",
    "#         returns: nothing\n",
    "#         This function doing one step of optimization for data from input\n",
    "# your code here\n",
    "        pass\n",
    "    \n",
    "    def predict(self, X):\n",
    "#         arguments: X is a np.array of data of shape = [L, n]      \n",
    "#         returns: np.array of answers for X of shape = [L]\n",
    "#         This function return answer for input data X\n",
    "# your code here\n",
    "        pass\n",
    "                 \n",
    "    def error(self, X, y):\n",
    "#         arguments: X is a np.array of data of shape = [L, n]\n",
    "#                    y is a np.array of answers for the data of shape = [L]\n",
    "#         returns: a error of prediction for data X\n",
    "# your code here\n",
    "        pass"
   ]
  },
  {
   "cell_type": "code",
   "execution_count": 7,
   "metadata": {},
   "outputs": [],
   "source": [
    "np.random.seed(0)\n",
    "\n",
    "X = np.random.multivariate_normal(mean = np.zeros(10), cov = np.eye(10), size = 1000)\n",
    "y = np.mean(X, axis=1)\n",
    "\n",
    "X_train, X_test, y_train, y_test = train_test_split(X, y)"
   ]
  },
  {
   "cell_type": "code",
   "execution_count": 8,
   "metadata": {},
   "outputs": [],
   "source": [
    "LRR = LinearRegression(10)"
   ]
  },
  {
   "cell_type": "code",
   "execution_count": 9,
   "metadata": {},
   "outputs": [],
   "source": [
    "NumberOfEpoch = 100"
   ]
  },
  {
   "cell_type": "code",
   "execution_count": 10,
   "metadata": {},
   "outputs": [],
   "source": [
    "List_of_error_on_test = []\n",
    "List_of_error_on_train = []"
   ]
  },
  {
   "cell_type": "code",
   "execution_count": 11,
   "metadata": {},
   "outputs": [],
   "source": [
    "List_of_error_on_test.append(LRR.error(X_test, y_test))\n",
    "List_of_error_on_train.append(LRR.error(X_train, y_train))"
   ]
  },
  {
   "cell_type": "code",
   "execution_count": 12,
   "metadata": {},
   "outputs": [],
   "source": [
    "for i in range(NumberOfEpoch):\n",
    "    LRR.fit(X_train, y_train)\n",
    "    List_of_error_on_test.append(LRR.error(X_test, y_test))\n",
    "    List_of_error_on_train.append(LRR.error(X_train, y_train))"
   ]
  },
  {
   "cell_type": "code",
   "execution_count": 13,
   "metadata": {},
   "outputs": [
    {
     "data": {
      "image/png": "[encoded data removed]",
      "text/plain": [
       "<matplotlib.figure.Figure at 0x1125e5358>"
      ]
     },
     "metadata": {},
     "output_type": "display_data"
    }
   ],
   "source": [
    "plt.plot(List_of_error_on_test, label = 'test')\n",
    "plt.plot(List_of_error_on_train, label = 'train')\n",
    "\n",
    "plt.grid()\n",
    "plt.legend(loc='best')\n",
    "plt.xlabel('epoch')\n",
    "plt.ylabel('Error')\n",
    "\n",
    "plt.show()"
   ]
  },
  {
   "cell_type": "code",
   "execution_count": null,
   "metadata": {},
   "outputs": [],
   "source": []
  }
 ],
 "metadata": {
  "kernelspec": {
   "display_name": "Python 3",
   "language": "python",
   "name": "python3"
  },
  "language_info": {
   "codemirror_mode": {
    "name": "ipython",
    "version": 3
   },
   "file_extension": ".py",
   "mimetype": "text/x-python",
   "name": "python",
   "nbconvert_exporter": "python",
   "pygments_lexer": "ipython3",
   "version": "3.6.2"
  }
 },
 "nbformat": 4,
 "nbformat_minor": 2
}
